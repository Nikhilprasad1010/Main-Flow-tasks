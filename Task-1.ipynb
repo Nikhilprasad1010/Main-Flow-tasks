{
 "cells": [
  {
   "cell_type": "code",
   "execution_count": 1,
   "id": "3899c397-abc9-45d5-92b9-7a217a3a4197",
   "metadata": {},
   "outputs": [],
   "source": [
    "#creating a list \n",
    "\n",
    "my_list = [10,20,30,40,50]\n",
    "\n",
    "#Adding an element into the list\n",
    "\n",
    "my_list.append(60)\n",
    "\n",
    "#Removing an element from the list\n",
    "\n",
    "my_list.remove(20)\n",
    "\n",
    "#Modifying an element into the list\n",
    "\n",
    "my_list[0] = 110"
   ]
  },
  {
   "cell_type": "code",
   "execution_count": 3,
   "id": "415bbfd2-aa65-4863-883c-6cf15df1ca7b",
   "metadata": {},
   "outputs": [
    {
     "name": "stdout",
     "output_type": "stream",
     "text": [
      "Updated List : [110, 30, 40, 50, 60]\n"
     ]
    }
   ],
   "source": [
    "print(\"Updated List :\" ,my_list)"
   ]
  },
  {
   "cell_type": "code",
   "execution_count": 5,
   "id": "1dafb302-59ab-4efb-8310-20b68ff3cf62",
   "metadata": {},
   "outputs": [
    {
     "name": "stdout",
     "output_type": "stream",
     "text": [
      "Updated Dict : {'name': 'NIKHIL', 'city': 'Ahemdabad', 'gender': 'Male'}\n"
     ]
    }
   ],
   "source": [
    "#creating a dictionary\n",
    "\n",
    "my_dict = {'name': 'NIKHIL', 'age': 24, 'city':'SURAT'}\n",
    "\n",
    "#Adding \n",
    "\n",
    "my_dict['gender'] = 'Male'\n",
    "\n",
    "#Removing\n",
    "\n",
    "del my_dict['age']\n",
    "\n",
    "#Modifying\n",
    "\n",
    "my_dict['city'] = 'Ahemdabad'\n",
    "\n",
    "print(\"Updated Dict :\" ,my_dict)"
   ]
  },
  {
   "cell_type": "code",
   "execution_count": 6,
   "id": "96a397f0-8feb-4ee7-b8d3-47dd0d6fff80",
   "metadata": {},
   "outputs": [
    {
     "name": "stdout",
     "output_type": "stream",
     "text": [
      "Updated SET : {20, 40, 110, 60, 30}\n"
     ]
    }
   ],
   "source": [
    "#creating a set\n",
    "\n",
    "my_set = {10,20,30,40,50}\n",
    "\n",
    "#Adding\n",
    "my_set.add(60)\n",
    "\n",
    "#Removing\n",
    "my_set.remove(50)\n",
    "\n",
    "#modifying\n",
    "my_set.discard(10)\n",
    "my_set.add(110)\n",
    "\n",
    "print(\"Updated SET :\" ,my_set)"
   ]
  },
  {
   "cell_type": "code",
   "execution_count": null,
   "id": "bb2c2180-a2d8-4881-a1a0-9917dac47466",
   "metadata": {},
   "outputs": [],
   "source": []
  }
 ],
 "metadata": {
  "kernelspec": {
   "display_name": "Python 3 (ipykernel)",
   "language": "python",
   "name": "python3"
  },
  "language_info": {
   "codemirror_mode": {
    "name": "ipython",
    "version": 3
   },
   "file_extension": ".py",
   "mimetype": "text/x-python",
   "name": "python",
   "nbconvert_exporter": "python",
   "pygments_lexer": "ipython3",
   "version": "3.11.7"
  }
 },
 "nbformat": 4,
 "nbformat_minor": 5
}
